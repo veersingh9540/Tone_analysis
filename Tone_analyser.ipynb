{
 "cells": [
  {
   "cell_type": "code",
   "execution_count": 1,
   "metadata": {},
   "outputs": [
    {
     "name": "stdout",
     "output_type": "stream",
     "text": [
      "Requirement already satisfied: ibm_watson in /opt/anaconda3/lib/python3.8/site-packages (4.7.1)\n",
      "Requirement already satisfied: python-dateutil>=2.5.3 in /opt/anaconda3/lib/python3.8/site-packages (from ibm_watson) (2.8.1)\n",
      "Requirement already satisfied: websocket-client==0.48.0 in /opt/anaconda3/lib/python3.8/site-packages (from ibm_watson) (0.48.0)\n",
      "Requirement already satisfied: requests<3.0,>=2.0 in /opt/anaconda3/lib/python3.8/site-packages (from ibm_watson) (2.24.0)\n",
      "Requirement already satisfied: ibm-cloud-sdk-core==1.7.3 in /opt/anaconda3/lib/python3.8/site-packages (from ibm_watson) (1.7.3)\n",
      "Requirement already satisfied: six>=1.5 in /opt/anaconda3/lib/python3.8/site-packages (from python-dateutil>=2.5.3->ibm_watson) (1.15.0)\n",
      "Requirement already satisfied: certifi>=2017.4.17 in /opt/anaconda3/lib/python3.8/site-packages (from requests<3.0,>=2.0->ibm_watson) (2020.6.20)\n",
      "Requirement already satisfied: idna<3,>=2.5 in /opt/anaconda3/lib/python3.8/site-packages (from requests<3.0,>=2.0->ibm_watson) (2.10)\n",
      "Requirement already satisfied: chardet<4,>=3.0.2 in /opt/anaconda3/lib/python3.8/site-packages (from requests<3.0,>=2.0->ibm_watson) (3.0.4)\n",
      "Requirement already satisfied: urllib3!=1.25.0,!=1.25.1,<1.26,>=1.21.1 in /opt/anaconda3/lib/python3.8/site-packages (from requests<3.0,>=2.0->ibm_watson) (1.25.10)\n",
      "Requirement already satisfied: PyJWT>=1.7.1 in /opt/anaconda3/lib/python3.8/site-packages (from ibm-cloud-sdk-core==1.7.3->ibm_watson) (1.7.1)\n",
      "Note: you may need to restart the kernel to use updated packages.\n"
     ]
    }
   ],
   "source": [
    "pip install ibm_watson"
   ]
  },
  {
   "cell_type": "code",
   "execution_count": 2,
   "metadata": {},
   "outputs": [],
   "source": [
    "apikey = '6_EfFpLa18AEl3WNr1i1qCijVkwMNhXxdHpfzq2gFiR8'\n",
    "url = 'https://api.eu-gb.tone-analyzer.watson.cloud.ibm.com/instances/569450c9-21dd-489c-ad88-b72ca3fb79fe'"
   ]
  },
  {
   "cell_type": "code",
   "execution_count": 3,
   "metadata": {},
   "outputs": [],
   "source": [
    "from ibm_watson import ToneAnalyzerV3\n",
    "from ibm_cloud_sdk_core.authenticators import IAMAuthenticator"
   ]
  },
  {
   "cell_type": "code",
   "execution_count": 4,
   "metadata": {},
   "outputs": [],
   "source": [
    "authenticator = IAMAuthenticator(apikey)\n",
    "ta = ToneAnalyzerV3(version='2017-09-21', authenticator=authenticator)\n",
    "ta.set_service_url(url)"
   ]
  },
  {
   "cell_type": "code",
   "execution_count": 5,
   "metadata": {},
   "outputs": [],
   "source": [
    "res = ta.tone('This sucks, I wish I wasnt here!').get_result()"
   ]
  },
  {
   "cell_type": "code",
   "execution_count": 6,
   "metadata": {},
   "outputs": [
    {
     "data": {
      "text/plain": [
       "{'document_tone': {'tones': [{'score': 0.553719,\n",
       "    'tone_id': 'sadness',\n",
       "    'tone_name': 'Sadness'}]}}"
      ]
     },
     "execution_count": 6,
     "metadata": {},
     "output_type": "execute_result"
    }
   ],
   "source": [
    "res"
   ]
  },
  {
   "cell_type": "code",
   "execution_count": 8,
   "metadata": {},
   "outputs": [],
   "source": [
    "chat = [\n",
    "    {\n",
    "    \"text\":\"I feel great, it's sunny outside, and I've got all my work done.\", \n",
    "    \"user\":\"He who shall not be named\"\n",
    "    }, \n",
    "    {\n",
    "    \"text\":\"This sucks, I have like 500 hundred hours more coding to do. This is going to take all weekend\", \n",
    "    \"user\":\"Nick\"\n",
    "    }\n",
    "]"
   ]
  },
  {
   "cell_type": "code",
   "execution_count": 9,
   "metadata": {},
   "outputs": [],
   "source": [
    "res = ta.tone_chat(chat).get_result()"
   ]
  },
  {
   "cell_type": "code",
   "execution_count": 10,
   "metadata": {},
   "outputs": [
    {
     "data": {
      "text/plain": [
       "{'utterances_tone': [{'utterance_id': 0,\n",
       "   'utterance_text': \"I feel great, it's sunny outside, and I've got all my work done.\",\n",
       "   'tones': [{'score': 0.81063,\n",
       "     'tone_id': 'excited',\n",
       "     'tone_name': 'Excited'}]},\n",
       "  {'utterance_id': 1,\n",
       "   'utterance_text': 'This sucks, I have like 500 hundred hours more coding to do. This is going to take all weekend',\n",
       "   'tones': [{'score': 0.624277,\n",
       "     'tone_id': 'frustrated',\n",
       "     'tone_name': 'Frustrated'},\n",
       "    {'score': 0.788803, 'tone_id': 'impolite', 'tone_name': 'Impolite'},\n",
       "    {'score': 0.643228, 'tone_id': 'sad', 'tone_name': 'Sad'}]}]}"
      ]
     },
     "execution_count": 10,
     "metadata": {},
     "output_type": "execute_result"
    }
   ],
   "source": [
    "res"
   ]
  },
  {
   "cell_type": "code",
   "execution_count": null,
   "metadata": {},
   "outputs": [],
   "source": []
  },
  {
   "cell_type": "code",
   "execution_count": null,
   "metadata": {},
   "outputs": [],
   "source": []
  }
 ],
 "metadata": {
  "kernelspec": {
   "display_name": "Python 3",
   "language": "python",
   "name": "python3"
  },
  "language_info": {
   "codemirror_mode": {
    "name": "ipython",
    "version": 3
   },
   "file_extension": ".py",
   "mimetype": "text/x-python",
   "name": "python",
   "nbconvert_exporter": "python",
   "pygments_lexer": "ipython3",
   "version": "3.8.3"
  }
 },
 "nbformat": 4,
 "nbformat_minor": 4
}
